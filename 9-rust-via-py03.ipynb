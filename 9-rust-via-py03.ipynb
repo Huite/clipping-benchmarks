{
 "cells": [
  {
   "cell_type": "markdown",
   "metadata": {},
   "source": [
    "# Rust via PyO3"
   ]
  },
  {
   "cell_type": "markdown",
   "metadata": {},
   "source": [
    "This requires building the Python module first.\n",
    "Run `maturin develop --release` in `./src/rust/`."
   ]
  },
  {
   "cell_type": "code",
   "execution_count": 1,
   "metadata": {},
   "outputs": [],
   "source": [
    "import numpy as np\n",
    "import json\n",
    "from rust_clipping import area_of_intersection, area_of_intersection_par"
   ]
  },
  {
   "cell_type": "code",
   "execution_count": 2,
   "metadata": {},
   "outputs": [],
   "source": [
    "a = np.load(\"triangles_a.npy\")\n",
    "b = np.load(\"triangles_b.npy\")"
   ]
  },
  {
   "cell_type": "code",
   "execution_count": 3,
   "metadata": {},
   "outputs": [
    {
     "name": "stdout",
     "output_type": "stream",
     "text": [
      "1.47 µs ± 45 ns per loop (mean ± std. dev. of 7 runs, 1,000,000 loops each)\n",
      "3.26 µs ± 63.1 ns per loop (mean ± std. dev. of 7 runs, 100,000 loops each)\n",
      "22 µs ± 389 ns per loop (mean ± std. dev. of 7 runs, 10,000 loops each)\n",
      "213 µs ± 4.87 µs per loop (mean ± std. dev. of 7 runs, 1,000 loops each)\n",
      "2.14 ms ± 79.9 µs per loop (mean ± std. dev. of 7 runs, 100 loops each)\n",
      "22 ms ± 808 µs per loop (mean ± std. dev. of 7 runs, 10 loops each)\n",
      "216 ms ± 6.61 ms per loop (mean ± std. dev. of 7 runs, 1 loop each)\n",
      "2.16 s ± 18.4 ms per loop (mean ± std. dev. of 7 runs, 1 loop each)\n"
     ]
    }
   ],
   "source": [
    "times = {}\n",
    "for s in [1, 10, 100, 1_000, 10_000, 100_000, 1_000_000, 10_000_000]:\n",
    "    res = %timeit -o area_of_intersection(a[:s], b[:s])\n",
    "    times[s] = res.average\n",
    "    \n",
    "json.dump(times, open(\"timing/rust-pyo3.json\", \"w\"))\n",
    "np.save(\"answers/rust-pyo3.npy\", area_of_intersection(a[:10_000], b[:10_000]))"
   ]
  },
  {
   "cell_type": "code",
   "execution_count": 4,
   "metadata": {},
   "outputs": [
    {
     "name": "stdout",
     "output_type": "stream",
     "text": [
      "1.55 µs ± 18.2 ns per loop (mean ± std. dev. of 7 runs, 1,000,000 loops each)\n",
      "21 µs ± 758 ns per loop (mean ± std. dev. of 7 runs, 100,000 loops each)\n",
      "33.9 µs ± 1.5 µs per loop (mean ± std. dev. of 7 runs, 10,000 loops each)\n",
      "97.2 µs ± 1.35 µs per loop (mean ± std. dev. of 7 runs, 10,000 loops each)\n",
      "617 µs ± 23.9 µs per loop (mean ± std. dev. of 7 runs, 1,000 loops each)\n",
      "5.53 ms ± 86.2 µs per loop (mean ± std. dev. of 7 runs, 100 loops each)\n",
      "54.4 ms ± 1.71 ms per loop (mean ± std. dev. of 7 runs, 10 loops each)\n",
      "513 ms ± 11.7 ms per loop (mean ± std. dev. of 7 runs, 1 loop each)\n"
     ]
    }
   ],
   "source": [
    "times = {}\n",
    "for s in [1, 10, 100, 1_000, 10_000, 100_000, 1_000_000, 10_000_000]:\n",
    "    res = %timeit -o area_of_intersection_par(a[:s], b[:s])\n",
    "    times[s] = res.average\n",
    "    \n",
    "json.dump(times, open(\"timing/rust-pyo3-parallel.json\", \"w\"))\n",
    "np.save(\"answers/rust-pyo3-parallel.npy\", area_of_intersection(a[:10_000], b[:10_000]))"
   ]
  }
 ],
 "metadata": {
  "kernelspec": {
   "display_name": "Python 3.10.6 ('clipping-benchmarks')",
   "language": "python",
   "name": "python3"
  },
  "language_info": {
   "codemirror_mode": {
    "name": "ipython",
    "version": 3
   },
   "file_extension": ".py",
   "mimetype": "text/x-python",
   "name": "python",
   "nbconvert_exporter": "python",
   "pygments_lexer": "ipython3",
   "version": "3.10.6"
  },
  "vscode": {
   "interpreter": {
    "hash": "bb19d912ee4540443733ece08af0d27997f8e00b7b659e3873eec374442cf724"
   }
  }
 },
 "nbformat": 4,
 "nbformat_minor": 4
}
