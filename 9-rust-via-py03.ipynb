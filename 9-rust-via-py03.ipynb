{
 "cells": [
  {
   "cell_type": "markdown",
   "metadata": {},
   "source": [
    "# Rust via PyO3"
   ]
  },
  {
   "cell_type": "markdown",
   "metadata": {},
   "source": [
    "This requires building the Python module first.\n",
    "Run `maturin develop --release` in `./src/rust/`."
   ]
  },
  {
   "cell_type": "code",
   "execution_count": 1,
   "metadata": {},
   "outputs": [],
   "source": [
    "import numpy as np\n",
    "import json\n",
    "from rust_clipping import area_of_intersection, area_of_intersection_par"
   ]
  },
  {
   "cell_type": "code",
   "execution_count": 2,
   "metadata": {},
   "outputs": [],
   "source": [
    "a = np.load(\"triangles_a.npy\")\n",
    "b = np.load(\"triangles_b.npy\")"
   ]
  },
  {
   "cell_type": "code",
   "execution_count": 3,
   "metadata": {},
   "outputs": [
    {
     "name": "stdout",
     "output_type": "stream",
     "text": [
      "1.61 µs ± 280 ns per loop (mean ± std. dev. of 7 runs, 100,000 loops each)\n",
      "3.14 µs ± 1.14 µs per loop (mean ± std. dev. of 7 runs, 100,000 loops each)\n",
      "10.9 µs ± 172 ns per loop (mean ± std. dev. of 7 runs, 100,000 loops each)\n",
      "111 µs ± 3.56 µs per loop (mean ± std. dev. of 7 runs, 10,000 loops each)\n",
      "1.17 ms ± 25.2 µs per loop (mean ± std. dev. of 7 runs, 1,000 loops each)\n",
      "11.6 ms ± 549 µs per loop (mean ± std. dev. of 7 runs, 100 loops each)\n",
      "118 ms ± 9.47 ms per loop (mean ± std. dev. of 7 runs, 10 loops each)\n",
      "1.12 s ± 11.9 ms per loop (mean ± std. dev. of 7 runs, 1 loop each)\n"
     ]
    }
   ],
   "source": [
    "times = {}\n",
    "for s in [1, 10, 100, 1_000, 10_000, 100_000, 1_000_000, 10_000_000]:\n",
    "    res = %timeit -o area_of_intersection(a[:s], b[:s])\n",
    "    times[s] = res.average\n",
    "    \n",
    "json.dump(times, open(\"timing/rust-pyo3.json\", \"w\"))\n",
    "np.save(\"answers/rust-pyo3.npy\", area_of_intersection(a[:10_000], b[:10_000]))"
   ]
  },
  {
   "cell_type": "code",
   "execution_count": 4,
   "metadata": {},
   "outputs": [
    {
     "name": "stdout",
     "output_type": "stream",
     "text": [
      "1.46 µs ± 49.4 ns per loop (mean ± std. dev. of 7 runs, 1,000,000 loops each)\n",
      "22.2 µs ± 1.07 µs per loop (mean ± std. dev. of 7 runs, 10,000 loops each)\n",
      "45.5 µs ± 1.77 µs per loop (mean ± std. dev. of 7 runs, 10,000 loops each)\n",
      "109 µs ± 4.61 µs per loop (mean ± std. dev. of 7 runs, 10,000 loops each)\n",
      "535 µs ± 111 µs per loop (mean ± std. dev. of 7 runs, 1,000 loops each)\n",
      "3.66 ms ± 439 µs per loop (mean ± std. dev. of 7 runs, 100 loops each)\n",
      "31.4 ms ± 2.24 ms per loop (mean ± std. dev. of 7 runs, 10 loops each)\n",
      "345 ms ± 27.3 ms per loop (mean ± std. dev. of 7 runs, 1 loop each)\n"
     ]
    }
   ],
   "source": [
    "times = {}\n",
    "for s in [1, 10, 100, 1_000, 10_000, 100_000, 1_000_000, 10_000_000]:\n",
    "    res = %timeit -o area_of_intersection_par(a[:s], b[:s])\n",
    "    times[s] = res.average\n",
    "    \n",
    "json.dump(times, open(\"timing/rust-pyo3-parallel.json\", \"w\"))\n",
    "np.save(\"answers/rust-pyo3-parallel.npy\", area_of_intersection(a[:10_000], b[:10_000]))"
   ]
  }
 ],
 "metadata": {
  "kernelspec": {
   "display_name": "Python 3.10.6 ('clipping-benchmarks')",
   "language": "python",
   "name": "python3"
  },
  "language_info": {
   "codemirror_mode": {
    "name": "ipython",
    "version": 3
   },
   "file_extension": ".py",
   "mimetype": "text/x-python",
   "name": "python",
   "nbconvert_exporter": "python",
   "pygments_lexer": "ipython3",
   "version": "3.10.6"
  },
  "vscode": {
   "interpreter": {
    "hash": "bb19d912ee4540443733ece08af0d27997f8e00b7b659e3873eec374442cf724"
   }
  }
 },
 "nbformat": 4,
 "nbformat_minor": 4
}
