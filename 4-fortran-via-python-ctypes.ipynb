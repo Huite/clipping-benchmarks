{
 "cells": [
  {
   "cell_type": "code",
   "execution_count": 1,
   "metadata": {},
   "outputs": [],
   "source": [
    "import ctypes\n",
    "import numpy as np\n",
    "import json"
   ]
  },
  {
   "cell_type": "code",
   "execution_count": 2,
   "metadata": {},
   "outputs": [],
   "source": [
    "a = np.load(\"triangles_a.npy\")\n",
    "b = np.load(\"triangles_b.npy\")"
   ]
  },
  {
   "cell_type": "code",
   "execution_count": 3,
   "metadata": {},
   "outputs": [],
   "source": [
    "ifortlib = ctypes.CDLL(\"./src/fortran/ifort_clipping.dll\")\n",
    "def ifort_area_of_intersection(a, b):\n",
    "    ntriangles, nvertex, ndim = a.shape\n",
    "    out = np.empty(ntriangles, dtype=np.float64)\n",
    "    function = ifortlib.area_of_intersection\n",
    "    function(\n",
    "        ctypes.pointer(ctypes.c_longlong(ndim)),\n",
    "        ctypes.pointer(ctypes.c_longlong(nvertex)),\n",
    "        ctypes.pointer(ctypes.c_longlong(ntriangles)),\n",
    "        np.ctypeslib.as_ctypes(a),\n",
    "        np.ctypeslib.as_ctypes(b),\n",
    "        np.ctypeslib.as_ctypes(out),\n",
    "    )\n",
    "    return out\n",
    "\n",
    "gfortranlib = ctypes.CDLL(\"./src/fortran/gfortran_clipping.dll\")\n",
    "def gfortran_area_of_intersection(a, b):\n",
    "    ntriangles, nvertex, ndim = a.shape\n",
    "    out = np.empty(ntriangles, dtype=np.float64)\n",
    "    function = gfortranlib.area_of_intersection\n",
    "    function(\n",
    "        ctypes.pointer(ctypes.c_longlong(ndim)),\n",
    "        ctypes.pointer(ctypes.c_longlong(nvertex)),\n",
    "        ctypes.pointer(ctypes.c_longlong(ntriangles)),\n",
    "        np.ctypeslib.as_ctypes(a),\n",
    "        np.ctypeslib.as_ctypes(b),\n",
    "        np.ctypeslib.as_ctypes(out),\n",
    "    )\n",
    "    return out"
   ]
  },
  {
   "cell_type": "code",
   "execution_count": 4,
   "metadata": {},
   "outputs": [
    {
     "name": "stdout",
     "output_type": "stream",
     "text": [
      "29.1 µs ± 2.43 µs per loop (mean ± std. dev. of 7 runs, 10,000 loops each)\n",
      "39.6 µs ± 3.72 µs per loop (mean ± std. dev. of 7 runs, 10,000 loops each)\n",
      "47 µs ± 4.29 µs per loop (mean ± std. dev. of 7 runs, 10,000 loops each)\n",
      "136 µs ± 19 µs per loop (mean ± std. dev. of 7 runs, 10,000 loops each)\n",
      "1.02 ms ± 7.23 µs per loop (mean ± std. dev. of 7 runs, 1,000 loops each)\n",
      "11.6 ms ± 1.01 ms per loop (mean ± std. dev. of 7 runs, 100 loops each)\n",
      "101 ms ± 564 µs per loop (mean ± std. dev. of 7 runs, 10 loops each)\n",
      "1.19 s ± 175 ms per loop (mean ± std. dev. of 7 runs, 1 loop each)\n"
     ]
    }
   ],
   "source": [
    "area_of_intersection = ifort_area_of_intersection\n",
    "\n",
    "times = {}\n",
    "for s in [1, 10, 100, 1_000, 10_000, 100_000, 1_000_000, 10_000_000]:\n",
    "    res = %timeit -o area_of_intersection(a[:s], b[:s])\n",
    "    times[s] = res.average\n",
    "    \n",
    "json.dump(times, open(\"timing/python-ifort.json\", \"w\"))\n",
    "np.save(\"answers/python-ifort.npy\", area_of_intersection(a[:10_000], b[:10_000]))"
   ]
  },
  {
   "cell_type": "code",
   "execution_count": 5,
   "metadata": {},
   "outputs": [
    {
     "name": "stdout",
     "output_type": "stream",
     "text": [
      "47.5 µs ± 5.7 µs per loop (mean ± std. dev. of 7 runs, 10,000 loops each)\n",
      "48.7 µs ± 2.59 µs per loop (mean ± std. dev. of 7 runs, 10,000 loops each)\n",
      "81.7 µs ± 10.1 µs per loop (mean ± std. dev. of 7 runs, 10,000 loops each)\n",
      "425 µs ± 19.1 µs per loop (mean ± std. dev. of 7 runs, 1,000 loops each)\n",
      "3.54 ms ± 361 µs per loop (mean ± std. dev. of 7 runs, 100 loops each)\n",
      "35.1 ms ± 2.14 ms per loop (mean ± std. dev. of 7 runs, 10 loops each)\n",
      "364 ms ± 16.7 ms per loop (mean ± std. dev. of 7 runs, 1 loop each)\n",
      "2.88 s ± 211 ms per loop (mean ± std. dev. of 7 runs, 1 loop each)\n"
     ]
    }
   ],
   "source": [
    "area_of_intersection = gfortran_area_of_intersection\n",
    "\n",
    "times = {}\n",
    "for s in [1, 10, 100, 1_000, 10_000, 100_000, 1_000_000, 10_000_000]:\n",
    "    res = %timeit -o area_of_intersection(a[:s], b[:s])\n",
    "    times[s] = res.average\n",
    "    \n",
    "json.dump(times, open(\"timing/python-gfortran.json\", \"w\"))\n",
    "np.save(\"answers/python-gfortran.npy\", area_of_intersection(a[:10_000], b[:10_000]))"
   ]
  }
 ],
 "metadata": {
  "kernelspec": {
   "display_name": "Python 3.10.6 ('clipping-benchmarks')",
   "language": "python",
   "name": "python3"
  },
  "language_info": {
   "codemirror_mode": {
    "name": "ipython",
    "version": 3
   },
   "file_extension": ".py",
   "mimetype": "text/x-python",
   "name": "python",
   "nbconvert_exporter": "python",
   "pygments_lexer": "ipython3",
   "version": "3.10.6"
  },
  "vscode": {
   "interpreter": {
    "hash": "bb19d912ee4540443733ece08af0d27997f8e00b7b659e3873eec374442cf724"
   }
  }
 },
 "nbformat": 4,
 "nbformat_minor": 4
}
