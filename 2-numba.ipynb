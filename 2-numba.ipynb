{
 "cells": [
  {
   "cell_type": "code",
   "execution_count": 1,
   "metadata": {},
   "outputs": [],
   "source": [
    "from typing import NamedTuple, Sequence, Tuple\n",
    "import numba as nb\n",
    "import numpy as np\n",
    "import json"
   ]
  },
  {
   "cell_type": "markdown",
   "metadata": {},
   "source": [
    "# Stack allocated array"
   ]
  },
  {
   "cell_type": "code",
   "execution_count": 2,
   "metadata": {},
   "outputs": [],
   "source": [
    "from numba import types\n",
    "from numba.extending import intrinsic\n",
    "from numba.core import cgutils\n",
    "\n",
    "@intrinsic\n",
    "def stack_empty(typingctx, size, dtype):\n",
    "    def impl(context, builder, signature, args):\n",
    "        ty = context.get_value_type(dtype.dtype)\n",
    "        ptr = cgutils.alloca_once(builder, ty, size=args[0])\n",
    "        return ptr\n",
    "    \n",
    "    sig = types.CPointer(dtype.dtype)(types.int64,dtype)\n",
    "    return sig, impl"
   ]
  },
  {
   "cell_type": "markdown",
   "metadata": {},
   "source": [
    "# Common"
   ]
  },
  {
   "cell_type": "code",
   "execution_count": 3,
   "metadata": {},
   "outputs": [],
   "source": [
    "FLOAT_TYPE = np.float64\n",
    "\n",
    "class Point(NamedTuple):\n",
    "    x: float\n",
    "    y: float\n",
    "\n",
    "class Vector(NamedTuple):\n",
    "    x: float\n",
    "    y: float\n",
    "\n",
    "@nb.njit(inline=\"always\")\n",
    "def cross_product(u: Vector, v: Vector) -> float:\n",
    "    return u.x * v.y - u.y * v.x\n",
    "\n",
    "@nb.njit(inline=\"always\")\n",
    "def dot_product(u: Vector, v: Vector) -> float:\n",
    "    return u.x * v.x + u.y * v.y"
   ]
  },
  {
   "cell_type": "markdown",
   "metadata": {},
   "source": [
    "# Sutherland-Hodgman"
   ]
  },
  {
   "cell_type": "code",
   "execution_count": 4,
   "metadata": {},
   "outputs": [],
   "source": [
    "@nb.njit(inline=\"always\")\n",
    "def _push(array: np.ndarray, n: int, value: Vector) -> int:\n",
    "    array[n] = value\n",
    "    return n + 1\n",
    "\n",
    "@nb.njit(inline=\"always\")\n",
    "def _copy(src, dst, n) -> None:\n",
    "    for i in range(n):\n",
    "        dst[i] = src[i]\n",
    "\n",
    "@nb.njit(inline=\"always\")\n",
    "def _inside(p: Point, r: Point, U: Vector):\n",
    "    # U: a -> b direction vector\n",
    "    # p is point r or s\n",
    "    return U.x * (p.y - r.y) > U.y * (p.x - r.x)\n",
    "\n",
    "@nb.njit(inline=\"always\")\n",
    "def _intersection(a: Point, V: Vector, r: Point, N: Vector) -> Tuple[bool, Point]:\n",
    "    W = Vector(r.x - a.x, r.y - a.y)\n",
    "    nw = dot_product(N, W)\n",
    "    nv = dot_product(N, V)\n",
    "    if nv != 0:\n",
    "        t = nw / nv\n",
    "        return True, Point(a.x + t * V.x, a.y + t * V.y)\n",
    "    else:\n",
    "        return False, Point(0.0, 0.0)\n",
    "\n",
    "@nb.njit(inline=\"always\")\n",
    "def _polygon_area(polygon: Sequence, length: Sequence) -> float:\n",
    "    area = 0.0\n",
    "    a = Point(polygon[0][0], polygon[0][1])\n",
    "    b = Point(polygon[1][0], polygon[1][1])\n",
    "    U = Vector(b.x - a.x, b.y - a.y)\n",
    "    for i in range(2, length):\n",
    "        c = Point(polygon[i][0], polygon[i][1])\n",
    "        V = Vector(a.x - c.x, a.y - c.y)\n",
    "        area += abs(cross_product(U, V))\n",
    "        b = c\n",
    "        U = V\n",
    "    return 0.5 * area\n",
    "\n",
    "def make_allocate(nvertex, ndim):\n",
    "    size = nvertex * ndim\n",
    "    \n",
    "    @nb.njit(inline=\"always\")\n",
    "    def allocate_empty():\n",
    "        arr_ptr = stack_empty(size, np.float64)\n",
    "        arr = nb.carray(arr_ptr, (nvertex, ndim))\n",
    "        return arr\n",
    "    \n",
    "    return allocate_empty\n",
    "\n",
    "@nb.njit(inline=\"always\")\n",
    "def clip_polygons(polygon: Sequence, clipper: Sequence) -> float:\n",
    "    n_output = len(polygon)\n",
    "    n_clip = len(clipper)\n",
    "    n_max = n_output + n_clip\n",
    "\n",
    "    # Create a view on the allocated memory and do something\n",
    "    subject = allocate_empty()\n",
    "    output = allocate_empty()\n",
    "    \n",
    "    # Copy polygon into output\n",
    "    _copy(polygon, output, n_output)\n",
    "\n",
    "    # Grab last point\n",
    "    r = Point(clipper[n_clip - 1][0], clipper[n_clip - 1][1])\n",
    "    for i in range(n_clip):\n",
    "        s = Point(clipper[i][0], clipper[i][1])\n",
    "\n",
    "        U = Vector(s.x - r.x, s.y - r.y)\n",
    "        N = Vector(-U.y, U.x)\n",
    "        if U.x == 0 and U.y == 0:\n",
    "            continue\n",
    "\n",
    "        # Copy output into subject\n",
    "        length = n_output\n",
    "        _copy(output, subject, length)\n",
    "        # Reset\n",
    "        n_output = 0\n",
    "        # Grab last point\n",
    "        a = Point(subject[length - 1][0], subject[length - 1][1])\n",
    "        a_inside = _inside(a, r, U)\n",
    "        for j in range(length):\n",
    "            b = Point(subject[j][0], subject[j][1])\n",
    "\n",
    "            V = Vector(b.x - a.x, b.y - a.y)\n",
    "            if V.x == 0 and V.y == 0:\n",
    "                continue\n",
    "\n",
    "            b_inside = _inside(b, r, U)\n",
    "            if b_inside:\n",
    "                if not a_inside:  # out, or on the edge\n",
    "                    succes, point = _intersection(a, V, r, N)\n",
    "                    if succes:\n",
    "                        n_output = _push(output, n_output, point)\n",
    "                n_output = _push(output, n_output, b)\n",
    "            elif a_inside:\n",
    "                succes, point = _intersection(a, V, r, N)\n",
    "                if succes:\n",
    "                    n_output = _push(output, n_output, point)\n",
    "                else:  # Floating point failure\n",
    "                    b_inside = True  # flip it for consistency, will be set as a\n",
    "                    n_output = _push(output, n_output, b)  # push b instead\n",
    "\n",
    "            # Advance to next polygon edge\n",
    "            a = b\n",
    "            a_inside = b_inside\n",
    "\n",
    "        # Exit early in case not enough vertices are left.\n",
    "        if n_output < 3:\n",
    "            return 0.0\n",
    "\n",
    "        # Advance to next clipping edge\n",
    "        r = s\n",
    "\n",
    "    area = _polygon_area(output, n_output)\n",
    "    return area"
   ]
  },
  {
   "cell_type": "code",
   "execution_count": 5,
   "metadata": {},
   "outputs": [],
   "source": [
    "def _area_of_intersection(a, b):\n",
    "    n = len(a)\n",
    "    out = np.zeros(n)\n",
    "    for i in nb.prange(n):\n",
    "        t0 = a[i]\n",
    "        t1 = b[i]\n",
    "        out[i] = clip_polygons(t0, t1)\n",
    "    return out"
   ]
  },
  {
   "cell_type": "markdown",
   "metadata": {},
   "source": [
    "# Read triangles"
   ]
  },
  {
   "cell_type": "code",
   "execution_count": 6,
   "metadata": {},
   "outputs": [],
   "source": [
    "a = np.load(\"triangles_a.npy\")\n",
    "b = np.load(\"triangles_b.npy\")"
   ]
  },
  {
   "cell_type": "code",
   "execution_count": 7,
   "metadata": {},
   "outputs": [
    {
     "name": "stdout",
     "output_type": "stream",
     "text": [
      "The slowest run took 11.86 times longer than the fastest. This could mean that an intermediate result is being cached.\n",
      "5.6 µs ± 7.89 µs per loop (mean ± std. dev. of 7 runs, 1 loop each)\n",
      "3.32 µs ± 118 ns per loop (mean ± std. dev. of 7 runs, 100,000 loops each)\n",
      "17.2 µs ± 1.51 µs per loop (mean ± std. dev. of 7 runs, 100,000 loops each)\n",
      "183 µs ± 17.7 µs per loop (mean ± std. dev. of 7 runs, 10,000 loops each)\n",
      "1.28 ms ± 22.6 µs per loop (mean ± std. dev. of 7 runs, 1,000 loops each)\n",
      "11.7 ms ± 195 µs per loop (mean ± std. dev. of 7 runs, 100 loops each)\n",
      "119 ms ± 1.07 ms per loop (mean ± std. dev. of 7 runs, 10 loops each)\n",
      "1.17 s ± 14.4 ms per loop (mean ± std. dev. of 7 runs, 1 loop each)\n"
     ]
    }
   ],
   "source": [
    "allocate_empty = make_allocate(nvertex=2 * a.shape[1], ndim=a.shape[2])\n",
    "\n",
    "area_of_intersection = nb.njit(_area_of_intersection)\n",
    "\n",
    "times = {}\n",
    "for s in [1, 10, 100, 1_000, 10_000, 100_000, 1_000_000, 10_000_000]:\n",
    "    res = %timeit -o area_of_intersection(a[:s], b[:s])\n",
    "    times[s] = res.average\n",
    "    \n",
    "json.dump(times, open(\"timing/numba.json\", \"w\"))\n",
    "np.save(\"answers/numba.npy\", area_of_intersection(a[:10_000], b[:10_000]))"
   ]
  },
  {
   "cell_type": "code",
   "execution_count": 8,
   "metadata": {},
   "outputs": [
    {
     "name": "stdout",
     "output_type": "stream",
     "text": [
      "The slowest run took 16.25 times longer than the fastest. This could mean that an intermediate result is being cached.\n",
      "133 µs ± 145 µs per loop (mean ± std. dev. of 7 runs, 1 loop each)\n",
      "149 µs ± 10.6 µs per loop (mean ± std. dev. of 7 runs, 10,000 loops each)\n",
      "140 µs ± 2.42 µs per loop (mean ± std. dev. of 7 runs, 10,000 loops each)\n",
      "86.8 µs ± 5.22 µs per loop (mean ± std. dev. of 7 runs, 10,000 loops each)\n",
      "379 µs ± 5.6 µs per loop (mean ± std. dev. of 7 runs, 1,000 loops each)\n",
      "2.82 ms ± 46.3 µs per loop (mean ± std. dev. of 7 runs, 100 loops each)\n",
      "28.3 ms ± 1.14 ms per loop (mean ± std. dev. of 7 runs, 10 loops each)\n",
      "295 ms ± 35.8 ms per loop (mean ± std. dev. of 7 runs, 1 loop each)\n"
     ]
    }
   ],
   "source": [
    "area_of_intersection = nb.njit(_area_of_intersection, parallel=True)\n",
    "\n",
    "times = {}\n",
    "for s in [1, 10, 100, 1_000, 10_000, 100_000, 1_000_000, 10_000_000]:\n",
    "    res = %timeit -o area_of_intersection(a[:s], b[:s])\n",
    "    times[s] = res.average\n",
    "    \n",
    "json.dump(times, open(\"timing/numba-parallel.json\", \"w\"))\n",
    "np.save(\"answers/numba-parallel.npy\", area_of_intersection(a[:10_000], b[:10_000]))"
   ]
  }
 ],
 "metadata": {
  "kernelspec": {
   "display_name": "Python 3.10.6 ('clipping-benchmarks')",
   "language": "python",
   "name": "python3"
  },
  "language_info": {
   "codemirror_mode": {
    "name": "ipython",
    "version": 3
   },
   "file_extension": ".py",
   "mimetype": "text/x-python",
   "name": "python",
   "nbconvert_exporter": "python",
   "pygments_lexer": "ipython3",
   "version": "3.10.6"
  },
  "vscode": {
   "interpreter": {
    "hash": "bb19d912ee4540443733ece08af0d27997f8e00b7b659e3873eec374442cf724"
   }
  }
 },
 "nbformat": 4,
 "nbformat_minor": 4
}
