{
 "cells": [
  {
   "cell_type": "code",
   "execution_count": 1,
   "metadata": {
    "execution": {
     "iopub.execute_input": "2022-09-23T08:19:53.226327Z",
     "iopub.status.busy": "2022-09-23T08:19:53.225327Z",
     "iopub.status.idle": "2022-09-23T08:19:54.059666Z",
     "shell.execute_reply": "2022-09-23T08:19:54.059666Z"
    }
   },
   "outputs": [],
   "source": [
    "import numpy as np\n",
    "import numba as nb\n",
    "import pathlib"
   ]
  },
  {
   "cell_type": "markdown",
   "metadata": {},
   "source": [
    "For the implementation of the clipping algorithms in this repository, counter-clockwise oriented triangles are assumed.\n",
    "\n",
    "We'll store a million triangles to make sure the tests with only a few triangles are commensurate."
   ]
  },
  {
   "cell_type": "code",
   "execution_count": 2,
   "metadata": {
    "execution": {
     "iopub.execute_input": "2022-09-23T08:19:54.065191Z",
     "iopub.status.busy": "2022-09-23T08:19:54.065191Z",
     "iopub.status.idle": "2022-09-23T08:19:56.901443Z",
     "shell.execute_reply": "2022-09-23T08:19:56.901443Z"
    }
   },
   "outputs": [],
   "source": [
    "@nb.njit\n",
    "def ccw(a):\n",
    "    for i in range(len(a)):\n",
    "        t = a[i]\n",
    "        normal = (t[1][0] - t[0][0])*(t[2][1]-t[0][1])-(t[1][1]-t[0][1])*(t[2][0]-t[0][0])\n",
    "\n",
    "        if normal < 0:\n",
    "            a[i] = t[::-1]\n",
    "     \n",
    "\n",
    "a = np.random.rand(10_000_000, 3, 2)\n",
    "b = np.random.rand(10_000_000, 3, 2)\n",
    "ccw(a)\n",
    "ccw(b)"
   ]
  },
  {
   "cell_type": "code",
   "execution_count": 3,
   "metadata": {
    "execution": {
     "iopub.execute_input": "2022-09-23T08:19:56.905408Z",
     "iopub.status.busy": "2022-09-23T08:19:56.905408Z",
     "iopub.status.idle": "2022-09-23T08:19:57.789227Z",
     "shell.execute_reply": "2022-09-23T08:19:57.789227Z"
    }
   },
   "outputs": [],
   "source": [
    "np.save(\"triangles_a.npy\", a)\n",
    "np.save(\"triangles_b.npy\", b)"
   ]
  },
  {
   "cell_type": "code",
   "execution_count": 4,
   "metadata": {
    "execution": {
     "iopub.execute_input": "2022-09-23T08:19:57.793261Z",
     "iopub.status.busy": "2022-09-23T08:19:57.793261Z",
     "iopub.status.idle": "2022-09-23T08:19:57.804088Z",
     "shell.execute_reply": "2022-09-23T08:19:57.804005Z"
    }
   },
   "outputs": [],
   "source": [
    "pathlib.Path(\"timing\").mkdir(exist_ok=True)\n",
    "pathlib.Path(\"answers\").mkdir(exist_ok=True)"
   ]
  }
 ],
 "metadata": {
  "kernelspec": {
   "display_name": "Python 3.10.6 ('clipping-benchmarks')",
   "language": "python",
   "name": "python3"
  },
  "language_info": {
   "codemirror_mode": {
    "name": "ipython",
    "version": 3
   },
   "file_extension": ".py",
   "mimetype": "text/x-python",
   "name": "python",
   "nbconvert_exporter": "python",
   "pygments_lexer": "ipython3",
   "version": "3.10.6"
  },
  "vscode": {
   "interpreter": {
    "hash": "bb19d912ee4540443733ece08af0d27997f8e00b7b659e3873eec374442cf724"
   }
  }
 },
 "nbformat": 4,
 "nbformat_minor": 4
}
