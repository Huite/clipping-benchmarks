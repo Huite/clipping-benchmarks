{
 "cells": [
  {
   "cell_type": "markdown",
   "metadata": {},
   "source": [
    "# C++ via Cython"
   ]
  },
  {
   "cell_type": "markdown",
   "metadata": {},
   "source": [
    "This requires compiling the Cython extension first. Run ``python setup.py build_ext --inplace`` in ``./src/cplusplus``."
   ]
  },
  {
   "cell_type": "code",
   "execution_count": 1,
   "metadata": {},
   "outputs": [],
   "source": [
    "import numba as nb\n",
    "import numpy as np\n",
    "import json\n",
    "import sys\n",
    "sys.path.append('./src/cplusplus')\n",
    "from cpp_clipping import cpp_area_of_intersection"
   ]
  },
  {
   "cell_type": "code",
   "execution_count": 2,
   "metadata": {},
   "outputs": [],
   "source": [
    "a = np.load(\"triangles_a.npy\")\n",
    "b = np.load(\"triangles_b.npy\")"
   ]
  },
  {
   "cell_type": "code",
   "execution_count": 3,
   "metadata": {},
   "outputs": [
    {
     "name": "stdout",
     "output_type": "stream",
     "text": [
      "2.83 µs ± 173 ns per loop (mean ± std. dev. of 7 runs, 100,000 loops each)\n",
      "5.61 µs ± 1.63 µs per loop (mean ± std. dev. of 7 runs, 100,000 loops each)\n",
      "12.8 µs ± 987 ns per loop (mean ± std. dev. of 7 runs, 100,000 loops each)\n",
      "140 µs ± 8.26 µs per loop (mean ± std. dev. of 7 runs, 10,000 loops each)\n",
      "1.83 ms ± 226 µs per loop (mean ± std. dev. of 7 runs, 1,000 loops each)\n",
      "15.2 ms ± 3.95 ms per loop (mean ± std. dev. of 7 runs, 100 loops each)\n",
      "163 ms ± 22.8 ms per loop (mean ± std. dev. of 7 runs, 10 loops each)\n",
      "1.28 s ± 95.9 ms per loop (mean ± std. dev. of 7 runs, 1 loop each)\n"
     ]
    }
   ],
   "source": [
    "area_of_intersection = cpp_area_of_intersection\n",
    "\n",
    "times = {}\n",
    "for s in [1, 10, 100, 1_000, 10_000, 100_000, 1_000_000, 10_000_000]:\n",
    "    res = %timeit -o area_of_intersection(a[:s], b[:s])\n",
    "    times[s] = res.average\n",
    "    \n",
    "json.dump(times, open(\"timing/cython-msvc-cpp.json\", \"w\"))\n",
    "np.save(\"answers/cython-msvc-cpp.npy\", area_of_intersection(a[:10_000], b[:10_000]))"
   ]
  }
 ],
 "metadata": {
  "kernelspec": {
   "display_name": "Python 3.10.6 ('clipping-benchmarks')",
   "language": "python",
   "name": "python3"
  },
  "language_info": {
   "codemirror_mode": {
    "name": "ipython",
    "version": 3
   },
   "file_extension": ".py",
   "mimetype": "text/x-python",
   "name": "python",
   "nbconvert_exporter": "python",
   "pygments_lexer": "ipython3",
   "version": "3.10.6"
  },
  "vscode": {
   "interpreter": {
    "hash": "bb19d912ee4540443733ece08af0d27997f8e00b7b659e3873eec374442cf724"
   }
  }
 },
 "nbformat": 4,
 "nbformat_minor": 4
}
