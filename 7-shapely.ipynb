{
 "cells": [
  {
   "cell_type": "code",
   "execution_count": 1,
   "metadata": {},
   "outputs": [],
   "source": [
    "import numpy as np\n",
    "import shapely.geometry as sg\n",
    "import json"
   ]
  },
  {
   "cell_type": "code",
   "execution_count": 2,
   "metadata": {},
   "outputs": [],
   "source": [
    "def area_of_intersection(a, b):\n",
    "    ntriangles = a.shape[0]\n",
    "    out = np.empty(ntriangles, dtype=np.float64)\n",
    "    for i in range(ntriangles):\n",
    "        aa = sg.Polygon(a[i])\n",
    "        bb = sg.Polygon(b[i])\n",
    "        out[i] = aa.intersection(bb).area\n",
    "    return out"
   ]
  },
  {
   "cell_type": "code",
   "execution_count": 3,
   "metadata": {},
   "outputs": [],
   "source": [
    "a = np.load(\"triangles_a.npy\")\n",
    "b = np.load(\"triangles_b.npy\")"
   ]
  },
  {
   "cell_type": "code",
   "execution_count": 4,
   "metadata": {},
   "outputs": [
    {
     "name": "stdout",
     "output_type": "stream",
     "text": [
      "157 µs ± 79.7 µs per loop (mean ± std. dev. of 7 runs, 10,000 loops each)\n",
      "1.47 ms ± 108 µs per loop (mean ± std. dev. of 7 runs, 1,000 loops each)\n",
      "12.9 ms ± 877 µs per loop (mean ± std. dev. of 7 runs, 100 loops each)\n",
      "117 ms ± 5.51 ms per loop (mean ± std. dev. of 7 runs, 10 loops each)\n",
      "1.17 s ± 34.1 ms per loop (mean ± std. dev. of 7 runs, 1 loop each)\n",
      "12 s ± 1.03 s per loop (mean ± std. dev. of 7 runs, 1 loop each)\n"
     ]
    }
   ],
   "source": [
    "times = {}\n",
    "for s in [1, 10, 100, 1_000, 10_000, 100_000]:\n",
    "    res = %timeit -o area_of_intersection(a[:s], b[:s])\n",
    "    times[s] = res.average\n",
    "   \n",
    "json.dump(times, open(\"timing/shapely.json\", \"w\"))\n",
    "np.save(\"answers/shapely.npy\", area_of_intersection(a[:10_000], b[:10_000]))"
   ]
  }
 ],
 "metadata": {
  "kernelspec": {
   "display_name": "Python 3.10.6 ('clipping-benchmarks')",
   "language": "python",
   "name": "python3"
  },
  "language_info": {
   "codemirror_mode": {
    "name": "ipython",
    "version": 3
   },
   "file_extension": ".py",
   "mimetype": "text/x-python",
   "name": "python",
   "nbconvert_exporter": "python",
   "pygments_lexer": "ipython3",
   "version": "3.10.6"
  },
  "vscode": {
   "interpreter": {
    "hash": "bb19d912ee4540443733ece08af0d27997f8e00b7b659e3873eec374442cf724"
   }
  }
 },
 "nbformat": 4,
 "nbformat_minor": 4
}
